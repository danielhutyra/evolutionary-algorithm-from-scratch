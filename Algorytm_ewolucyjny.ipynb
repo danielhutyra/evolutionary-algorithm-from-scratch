{
  "nbformat": 4,
  "nbformat_minor": 0,
  "metadata": {
    "colab": {
      "name": "Algorytm_ewolucyjny.ipynb",
      "provenance": [],
      "collapsed_sections": [],
      "toc_visible": true
    },
    "kernelspec": {
      "display_name": "Python 3",
      "name": "python3"
    }
  },
  "cells": [
    {
      "cell_type": "code",
      "metadata": {
        "id": "Ojpduh-GDWzC"
      },
      "source": [
        "import numpy as np\r\n",
        "from numpy.random import randint\r\n",
        "from random import random as rnd\r\n",
        "from random import gauss, randrange\r\n",
        "from random import randint, uniform\r\n",
        "import math\r\n",
        "\r\n",
        "def individual(number_of_genes, upper_limit, lower_limit):\r\n",
        "    individual=[round(rnd()*(upper_limit-lower_limit)+lower_limit,2) for x in range(number_of_genes)]\r\n",
        "    return individual \r\n",
        "\r\n",
        "def fitness(x1, x2, m):\r\n",
        "  return round(( math.sin(x1) * (math.sin(1*x1**2/math.pi))**(2*m) ) + ( math.sin(x2) * (math.sin(2*x2**2/math.pi))**(2*m) ), 4)\r\n",
        "\r\n",
        "def randint_with_exclusion(to_exclude):\r\n",
        "  exclude=[to_exclude]\r\n",
        "  randInt = randint(0, 9)\r\n",
        "  return randint_with_exclusion(to_exclude) if randInt in exclude else randInt \r\n",
        "\r\n",
        "def crossover(first_parent, second_parent):\r\n",
        "  first_elements_coef = rnd()\r\n",
        "  second_elements_coef = rnd()\r\n",
        "  first_elements_offspring = first_elements_coef * first_parent[0] + (1-first_elements_coef) * second_parent[0]\r\n",
        "  second_elements_offspring = second_elements_coef * first_parent[1] + (1-second_elements_coef) * second_parent[1]\r\n",
        "  return [round(first_elements_offspring, 2), round(second_elements_offspring, 2)]\r\n",
        "\r\n",
        "def mutate(individual, constraints_max, constraints_min):\r\n",
        "  first_elements_coef = uniform(0.8, 1.2)\r\n",
        "  second_elements_coef = uniform(0.8, 1.2)\r\n",
        "  new_first_element = individual[0]*first_elements_coef\r\n",
        "  new_second_element = individual[1]*second_elements_coef\r\n",
        "  if new_first_element > constraints_max:\r\n",
        "    new_first_element = constraints_max\r\n",
        "  elif new_first_element < constraints_min:\r\n",
        "    new_first_element = constraints_min\r\n",
        "  if new_second_element > constraints_max:\r\n",
        "    new_second_element = constraints_max\r\n",
        "  elif new_second_element < constraints_min:\r\n",
        "    new_second_element = constraints_min\r\n",
        "  return [round(new_first_element, 2), round(new_second_element, 2)]\r\n",
        "\r\n",
        "def get_solution(constraints_max, constraints_min, max_pop_size, pop_size, existing_instances_of_ea):\r\n",
        "  if pop_size < max_pop_size:\r\n",
        "    return individual(2, constraints_max, constraints_min)\r\n",
        "  if (rnd() > 0.5): #krzyżowanie\r\n",
        "    first_parent_idx = randint(0, 9)\r\n",
        "    second_parent_idx = randint_with_exclusion(first_parent_idx)\r\n",
        "    new_individual = crossover(existing_instances_of_ea[first_parent_idx], existing_instances_of_ea[second_parent_idx])\r\n",
        "  else:\r\n",
        "    clone_idx = randint(0, 9)\r\n",
        "    new_individual = existing_instances_of_ea[clone_idx]\r\n",
        "  new_individual = mutate(new_individual, constraints_max, constraints_min)\r\n",
        "  return new_individual\r\n",
        "\r\n",
        "def feed_fitness(individual, individual_fitness, max_pop_size, pop_size, existing_instances_of_ea, existing_fitnesses_of_ea):\r\n",
        "  if pop_size < max_pop_size:\r\n",
        "    existing_instances_of_ea.append(individual)\r\n",
        "    existing_fitnesses_of_ea.append(individual_fitness)\r\n",
        "    pop_size = pop_size + 1\r\n",
        "    return existing_instances_of_ea, existing_fitnesses_of_ea, pop_size\r\n",
        "  if individual_fitness < min(existing_fitnesses_of_ea):\r\n",
        "    return existing_instances_of_ea, existing_fitnesses_of_ea, pop_size\r\n",
        "  else:\r\n",
        "    min_fitness_idx = np.where(np.array(existing_fitnesses_of_ea) == min(existing_fitnesses_of_ea))[0][0]\r\n",
        "    existing_instances_of_ea[min_fitness_idx] = individual\r\n",
        "    existing_fitnesses_of_ea[min_fitness_idx] = individual_fitness\r\n",
        "    return existing_instances_of_ea, existing_fitnesses_of_ea, pop_size"
      ],
      "execution_count": 223,
      "outputs": []
    },
    {
      "cell_type": "code",
      "metadata": {
        "id": "0fUH9LFsIW7P"
      },
      "source": [
        "max_pop_size = 10\r\n",
        "params_num = 2\r\n",
        "constraints_min = 0.0\r\n",
        "constraints_max = 3.1415\r\n",
        "ea_instances = list()\r\n",
        "ea_fitnesses = list()\r\n",
        "ea_pop_size = 0"
      ],
      "execution_count": 224,
      "outputs": []
    },
    {
      "cell_type": "code",
      "metadata": {
        "id": "XjWZdC6AGfGK"
      },
      "source": [
        "for i in range(0, 100000):\r\n",
        "  new_solution = get_solution(constraints_max, constraints_min, 10, ea_pop_size, ea_instances)\r\n",
        "  new_solution_fitness = fitness(new_solution[0], new_solution[1], 10)\r\n",
        "  ea_instances, ea_fitnesses, ea_pop_size = feed_fitness(new_solution, new_solution_fitness, max_pop_size, ea_pop_size, ea_instances, ea_fitnesses)"
      ],
      "execution_count": 228,
      "outputs": []
    },
    {
      "cell_type": "code",
      "metadata": {
        "colab": {
          "base_uri": "https://localhost:8080/"
        },
        "id": "O6PGOJtwZzYR",
        "outputId": "38201fab-4c82-4aee-9627-bd1f5b8ae7cf"
      },
      "source": [
        "ea_fitnesses"
      ],
      "execution_count": 229,
      "outputs": [
        {
          "output_type": "execute_result",
          "data": {
            "text/plain": [
              "[1.8011,\n",
              " 1.8011,\n",
              " 1.8011,\n",
              " 1.8011,\n",
              " 1.8011,\n",
              " 1.8011,\n",
              " 1.8011,\n",
              " 1.8011,\n",
              " 1.8011,\n",
              " 1.8011]"
            ]
          },
          "metadata": {
            "tags": []
          },
          "execution_count": 229
        }
      ]
    },
    {
      "cell_type": "code",
      "metadata": {
        "colab": {
          "base_uri": "https://localhost:8080/"
        },
        "id": "x9LO9hyZG6dW",
        "outputId": "c50a06d8-e145-49fe-d163-66e77b0d272e"
      },
      "source": [
        "ea_instances"
      ],
      "execution_count": 230,
      "outputs": [
        {
          "output_type": "execute_result",
          "data": {
            "text/plain": [
              "[[2.2, 1.57],\n",
              " [2.2, 1.57],\n",
              " [2.2, 1.57],\n",
              " [2.2, 1.57],\n",
              " [2.2, 1.57],\n",
              " [2.2, 1.57],\n",
              " [2.2, 1.57],\n",
              " [2.2, 1.57],\n",
              " [2.2, 1.57],\n",
              " [2.2, 1.57]]"
            ]
          },
          "metadata": {
            "tags": []
          },
          "execution_count": 230
        }
      ]
    }
  ]
}